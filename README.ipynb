{
 "cells": [
  {
   "cell_type": "code",
   "execution_count": null,
   "id": "e655575e-54bb-4f6c-9060-3bd43aa9bdfc",
   "metadata": {},
   "outputs": [],
   "source": [
    "mkdir -p logs tiles"
   ]
  },
  {
   "cell_type": "code",
   "execution_count": null,
   "id": "ce3dc131-ccef-46eb-9462-1ab5f4ed4baf",
   "metadata": {},
   "outputs": [],
   "source": [
    "condor_submit fractal.submit"
   ]
  },
  {
   "cell_type": "code",
   "execution_count": null,
   "id": "81620674-f2cc-491b-b05f-656c777d003f",
   "metadata": {},
   "outputs": [],
   "source": [
    "condor_q -nobatch"
   ]
  },
  {
   "cell_type": "code",
   "execution_count": null,
   "id": "27bef1e6-dcaa-4889-9bab-ac2ea24612e8",
   "metadata": {},
   "outputs": [],
   "source": [
    "#apptainer exec software/goatbrot.sif montage tile_000000_000000.ppm tile_000000_000001.ppm tile_000001_000000.ppm tile_000001_000001.ppm -mode Concatenate -tile 2x2 mandel.jpg"
   ]
  },
  {
   "cell_type": "code",
   "execution_count": null,
   "id": "c3b05b3b-5eb0-43a6-8d92-bc387abd59ea",
   "metadata": {},
   "outputs": [],
   "source": [
    "condor_submit montage.submit"
   ]
  },
  {
   "cell_type": "code",
   "execution_count": null,
   "id": "7620caca-80c5-471e-a82e-c43ca812c6a5",
   "metadata": {},
   "outputs": [],
   "source": [
    "condor_q -nobatch"
   ]
  },
  {
   "cell_type": "code",
   "execution_count": null,
   "id": "c0c60b08-9982-4267-8f90-a03226393dfa",
   "metadata": {},
   "outputs": [],
   "source": [
    "![mandel](mandel.jpg)"
   ]
  }
 ],
 "metadata": {
  "kernelspec": {
   "display_name": "Bash",
   "language": "bash",
   "name": "bash"
  },
  "language_info": {
   "codemirror_mode": "shell",
   "file_extension": ".sh",
   "mimetype": "text/x-sh",
   "name": "bash"
  }
 },
 "nbformat": 4,
 "nbformat_minor": 5
}
